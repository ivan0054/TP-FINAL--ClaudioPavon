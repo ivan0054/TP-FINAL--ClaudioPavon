{
  "nbformat": 4,
  "nbformat_minor": 0,
  "metadata": {
    "colab": {
      "provenance": [],
      "include_colab_link": true
    },
    "kernelspec": {
      "name": "python3",
      "display_name": "Python 3"
    },
    "language_info": {
      "name": "python"
    }
  },
  "cells": [
    {
      "cell_type": "markdown",
      "metadata": {
        "id": "view-in-github",
        "colab_type": "text"
      },
      "source": [
        "<a href=\"https://colab.research.google.com/github/ivan0054/TP-FINAL--ClaudioPavon/blob/marcos-2/TP_FINAL_Pavon.ipynb\" target=\"_parent\"><img src=\"https://colab.research.google.com/assets/colab-badge.svg\" alt=\"Open In Colab\"/></a>"
      ]
    },
    {
      "cell_type": "code",
      "execution_count": null,
      "metadata": {
        "id": "p0Xn5CQOHMjU"
      },
      "outputs": [],
      "source": [
        "import pandas as pd\n",
        "import numpy as np\n",
        "import seaborn as sns\n",
        "import matplotlib.pyplot as plt\n",
        "\n",
        "from sklearn.model_selection import train_test_split\n",
        "from sklearn.preprocessing import StandardScaler, LabelEncoder\n",
        "from sklearn.ensemble import RandomForestClassifier\n",
        "from sklearn.metrics import classification_report, confusion_matrix, accuracy_score\n",
        "from sklearn.linear_model import LogisticRegression\n",
        "from sklearn.metrics import roc_curve, roc_auc_score"
      ]
    },
    {
      "cell_type": "code",
      "source": [
        "df = pd.read_csv(\"/content/healthcare-dataset-stroke-data_TF.csv\")\n",
        "df"
      ],
      "metadata": {
        "id": "HbXiOmtcZpM6"
      },
      "execution_count": null,
      "outputs": []
    },
    {
      "cell_type": "code",
      "source": [
        "plt.figure(figsize=(8, 5))\n",
        "sns.boxplot(x='stroke', y='age', data=df)\n",
        "plt.title('Box plot: Age (Edad) vs Stroke (Ataque)')\n",
        "plt.show()"
      ],
      "metadata": {
        "id": "52BB6Th5bQrL"
      },
      "execution_count": null,
      "outputs": []
    },
    {
      "cell_type": "code",
      "source": [
        "plt.figure(figsize=(8, 5))\n",
        "sns.violinplot(x='stroke', y='bmi', data=df)\n",
        "plt.title('Violin: BMI (Índice de masa corporal) vs Stroke (Ataque)')\n",
        "plt.show()"
      ],
      "metadata": {
        "id": "0NKYGO15kkUt"
      },
      "execution_count": null,
      "outputs": []
    },
    {
      "cell_type": "code",
      "source": [
        "df.info(), df.describe()"
      ],
      "metadata": {
        "id": "jBECsUkFko4_"
      },
      "execution_count": null,
      "outputs": []
    },
    {
      "cell_type": "code",
      "source": [
        "df.drop(columns='id', inplace=True)"
      ],
      "metadata": {
        "id": "RXE8baOOMX80"
      },
      "execution_count": null,
      "outputs": []
    },
    {
      "cell_type": "code",
      "source": [
        "missing_values = df.isnull().sum()\n",
        "missing_values"
      ],
      "metadata": {
        "id": "mX2CpI_8NSWz"
      },
      "execution_count": null,
      "outputs": []
    },
    {
      "cell_type": "code",
      "source": [
        "df['age'].fillna(df['age'].median(), inplace=True)\n",
        "df['hypertension'].fillna(df['hypertension'].mode()[0], inplace=True)\n",
        "df['bmi'].fillna(df['bmi'].mean(), inplace=True)\n",
        "print(\"\\nValores nulos después de la verificación:\")\n",
        "print(df.isnull().sum())"
      ],
      "metadata": {
        "id": "rM1eeNOLevvZ"
      },
      "execution_count": null,
      "outputs": []
    },
    {
      "cell_type": "code",
      "source": [
        "categorical_cols = ['gender', 'ever_married', 'work_type', 'Residence_type', 'smoking_status']\n",
        "df_encoded = pd.get_dummies(df, columns=categorical_cols, drop_first=True)"
      ],
      "metadata": {
        "id": "JSkSGIALffC1"
      },
      "execution_count": null,
      "outputs": []
    },
    {
      "cell_type": "code",
      "source": [
        "plt.figure(figsize=(12, 8))\n",
        "sns.heatmap(df_encoded.corr(), cmap='coolwarm', annot=True)\n",
        "plt.title('Mapa de calor de correlación')\n",
        "plt.show()"
      ],
      "metadata": {
        "id": "7lnqJWLRfqDl"
      },
      "execution_count": null,
      "outputs": []
    },
    {
      "cell_type": "code",
      "source": [
        "X = df_encoded.drop(\"stroke\", axis=1)\n",
        "y = df_encoded[\"stroke\"]"
      ],
      "metadata": {
        "id": "92hH7EiYkM-a"
      },
      "execution_count": null,
      "outputs": []
    },
    {
      "cell_type": "code",
      "source": [
        "scaler = StandardScaler()\n",
        "X_scaled = scaler.fit_transform(X)"
      ],
      "metadata": {
        "id": "wvu6eEoMkOQH"
      },
      "execution_count": null,
      "outputs": []
    },
    {
      "cell_type": "code",
      "source": [
        "X_train, X_test, y_train, y_test = train_test_split(X_scaled, y, test_size=0.3, random_state=42, stratify=y)"
      ],
      "metadata": {
        "id": "9fVxCT_zkRP5"
      },
      "execution_count": null,
      "outputs": []
    }
  ]
}